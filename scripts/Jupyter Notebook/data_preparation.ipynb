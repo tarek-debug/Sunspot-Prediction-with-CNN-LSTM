{
 "cells": [
  {
   "cell_type": "code",
   "execution_count": null,
   "metadata": {},
   "outputs": [],
   "source": [
    "# data_preparation_V1.ipynb\n",
    "\n",
    "import os\n",
    "import pandas as pd\n",
    "import numpy as np\n",
    "from astropy.io import fits\n",
    "from skimage.measure import label\n",
    "from IPython.display import clear_output\n",
    "import zipfile\n",
    "from google.colab import drive\n"
   ]
  },
  {
   "cell_type": "code",
   "execution_count": null,
   "metadata": {},
   "outputs": [],
   "source": [
    "# Mount Google Drive\n",
    "drive.mount('/content/drive')"
   ]
  },
  {
   "cell_type": "code",
   "execution_count": null,
   "metadata": {},
   "outputs": [],
   "source": [
    "# Quantify white spots in images within a folder\n",
    "def quantify_white_spots_info_in_folder(folder_path):\n",
    "    results_df = pd.DataFrame(columns=['Image', 'White_Spot_Percentage', 'Num_White_Spots'])\n",
    "\n",
    "    for filename in os.listdir(folder_path):\n",
    "        if filename.endswith('.zip'):\n",
    "            zip_path = os.path.join(folder_path, filename)\n",
    "            with zipfile.ZipFile(zip_path, 'r') as zip_ref:\n",
    "                zip_ref.extractall(folder_path)\n",
    "\n",
    "            for extracted_filename in os.listdir(folder_path):\n",
    "                if extracted_filename.endswith('.fits.gz'):\n",
    "                    fits_path = os.path.join(folder_path, extracted_filename)\n",
    "                    with fits.open(fits_path) as hdul:\n",
    "                        image_data = hdul[0].data\n",
    "\n",
    "                    grayscale_image = np.squeeze(image_data)\n",
    "                    threshold_value = np.mean(grayscale_image)\n",
    "                    binary_image = np.where(grayscale_image >= threshold_value, 1, 0)\n",
    "                    labeled_image = label(binary_image)\n",
    "                    num_white_spots = np.max(labeled_image)\n",
    "                    total_pixels = binary_image.size\n",
    "                    white_spot_percentage = (num_white_spots / total_pixels) * 100\n",
    "\n",
    "                    new_row = pd.DataFrame({\n",
    "                        'Image': [extracted_filename],\n",
    "                        'White_Spot_Percentage': [white_spot_percentage],\n",
    "                        'Num_White_Spots': [num_white_spots]\n",
    "                    })\n",
    "                    results_df = pd.concat([results_df, new_row], ignore_index=True)\n",
    "\n",
    "            for extracted_filename in os.listdir(folder_path):\n",
    "                if extracted_filename.endswith('.fits.gz'):\n",
    "                    extracted_path = os.path.join(folder_path, extracted_filename)\n",
    "                    os.remove(extracted_path)\n",
    "\n",
    "    return results_df"
   ]
  },
  {
   "cell_type": "code",
   "execution_count": null,
   "metadata": {},
   "outputs": [],
   "source": [
    "# Read join.csv\n",
    "join_df = pd.read_csv('/content/drive/MyDrive/NASA Project/data/join.csv')\n",
    "join_df['time'] = pd.to_datetime(join_df['time']).dt.strftime('%Y-%m-%d %H:00:00')\n",
    "join_df.set_index('time', inplace=True)\n",
    "\n",
    "aggregated_df = pd.DataFrame()\n",
    "\n",
    "for year in range(2011, 2019):\n",
    "    path_to_zip_folder = f'/content/drive/MyDrive/NASA Project/data/mask_results/{year}'\n",
    "    print(path_to_zip_folder)  # For demonstration purposes\n",
    "\n",
    "    white_spots_info_choronnos_df = quantify_white_spots_info_in_folder(path_to_zip_folder)\n",
    "    white_spots_info_choronnos_df['time'] = pd.to_datetime(white_spots_info_choronnos_df['Image'].str[:13], format='%Y%m%dT%H').dt.strftime('%Y-%m-%d %H:00:00')\n",
    "    white_spots_info_choronnos_df.set_index('time', inplace=True)\n",
    "    merged_df = white_spots_info_choronnos_df.merge(join_df, left_index=True, right_index=True, how='inner')\n",
    "    aggregated_df = pd.concat([aggregated_df, merged_df])\n",
    "\n",
    "    clear_output()\n",
    "\n",
    "output_csv_path = '/content/drive/MyDrive/NASA Project/scripts/stephen/final_2011-2018_merged.csv'\n",
    "aggregated_df.to_csv(output_csv_path)"
   ]
  }
 ],
 "metadata": {
  "language_info": {
   "name": "python"
  }
 },
 "nbformat": 4,
 "nbformat_minor": 2
}
